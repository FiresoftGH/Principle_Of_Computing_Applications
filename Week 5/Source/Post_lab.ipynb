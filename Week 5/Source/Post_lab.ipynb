{
 "cells": [
  {
   "cell_type": "code",
   "execution_count": 1,
   "metadata": {},
   "outputs": [],
   "source": [
    "import sys\n",
    "from time import time\n",
    "import matplotlib as plot"
   ]
  },
  {
   "cell_type": "code",
   "execution_count": 2,
   "metadata": {},
   "outputs": [],
   "source": [
    "def rfib(n):\n",
    "    if n < 0:\n",
    "        print(\"Incorrect input\")\n",
    "        return\n",
    "    elif n == 0:\n",
    "        return 0\n",
    "    elif n == 1 or n == 2:\n",
    "        return 1\n",
    "    else:\n",
    "        return rfib(n - 1) + rfib(n - 2)\n",
    "\n",
    "# rfib(9)"
   ]
  },
  {
   "cell_type": "code",
   "execution_count": 3,
   "metadata": {},
   "outputs": [],
   "source": [
    "def ifib(n):\n",
    "    if n < 0:\n",
    "        print(\"Incorrect Input\")\n",
    "        return \n",
    "    else:\n",
    "        result = [0, 1]\n",
    "        for x in range(n):\n",
    "            result.append(result[0 + x] + result[1 + x])\n",
    "\n",
    "        print(result[n])\n",
    "\n",
    "# ifib(9)"
   ]
  }
 ],
 "metadata": {
  "kernelspec": {
   "display_name": "Python 3.10.6 64-bit (microsoft store)",
   "language": "python",
   "name": "python3"
  },
  "language_info": {
   "codemirror_mode": {
    "name": "ipython",
    "version": 3
   },
   "file_extension": ".py",
   "mimetype": "text/x-python",
   "name": "python",
   "nbconvert_exporter": "python",
   "pygments_lexer": "ipython3",
   "version": "3.10.6"
  },
  "orig_nbformat": 4,
  "vscode": {
   "interpreter": {
    "hash": "7b02c74446cc3340ec73a22c9ebfb594356eb177937d6ca99937a2338bea8788"
   }
  }
 },
 "nbformat": 4,
 "nbformat_minor": 2
}
