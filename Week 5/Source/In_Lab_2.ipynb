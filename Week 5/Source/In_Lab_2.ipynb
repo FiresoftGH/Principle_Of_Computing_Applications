{
 "cells": [
  {
   "cell_type": "code",
   "execution_count": 1,
   "metadata": {},
   "outputs": [],
   "source": [
    "import turtle\n",
    "# Note: These recursive function have some parts that used a loop.\n",
    "# 1. Used for turtle drawing (Since it was not specified)\n",
    "# 2. For the base case of the recursive function. (In my logic, the base case had nothing\n",
    "# to do with the recursive case)"
   ]
  },
  {
   "cell_type": "code",
   "execution_count": 2,
   "metadata": {},
   "outputs": [
    {
     "name": "stdout",
     "output_type": "stream",
     "text": [
      "*\n",
      "**\n",
      "***\n",
      "****\n",
      "*****\n",
      "*****\n",
      "****\n",
      "***\n",
      "**\n",
      "*\n"
     ]
    }
   ],
   "source": [
    "turtle.penup()\n",
    "result = []\n",
    "def stars2(n):\n",
    "    if n > 0:\n",
    "        \n",
    "        answer = \"\"\n",
    "        answer += \"*\"\n",
    "        result.append(answer)\n",
    "        for x in range(len(result)):\n",
    "            turtle.dot(10, \"black\")\n",
    "            turtle.fd(20)\n",
    "        turtle.right(90)\n",
    "        turtle.fd(20)\n",
    "        turtle.goto(0, turtle.ycor())\n",
    "        turtle.right(-90)\n",
    "        print(''.join(result))\n",
    "        stars2(n - 1)\n",
    "    else:\n",
    "\n",
    "        result.reverse()\n",
    "        for x in range(len(result)):\n",
    "            print(''.join(result))\n",
    "            result.pop()\n",
    "            for y in range(len(result) + 1):\n",
    "                turtle.dot(10, \"black\")\n",
    "                turtle.fd(20)\n",
    "            turtle.right(90)\n",
    "            turtle.fd(20)\n",
    "            turtle.goto(0, turtle.ycor())\n",
    "            turtle.right(-90)\n",
    "\n",
    "stars2(5)\n",
    "\n",
    "turtle.mainloop()"
   ]
  },
  {
   "cell_type": "code",
   "execution_count": 4,
   "metadata": {},
   "outputs": [
    {
     "name": "stdout",
     "output_type": "stream",
     "text": [
      "*****\n",
      "****\n",
      "***\n",
      "**\n",
      "*\n",
      "*\n",
      "**\n",
      "***\n",
      "****\n",
      "*****\n"
     ]
    }
   ],
   "source": [
    "data = []\n",
    "turtle.penup()\n",
    "def stars1(n):\n",
    "    if n > 0:\n",
    "        stars = \"\"\n",
    "        for x in range(n):\n",
    "            stars += \"*\"\n",
    "            turtle.dot(10, \"black\")\n",
    "            turtle.fd(20)\n",
    "        turtle.goto(0, turtle.ycor())\n",
    "        turtle.right(90)\n",
    "        turtle.fd(20)\n",
    "        turtle.right(-90)\n",
    "        print(stars)\n",
    "        data.append(stars)\n",
    "        # print(data)\n",
    "        stars1(n - 1)\n",
    "    else:\n",
    "        data.reverse()\n",
    "        for x in data:\n",
    "            print(x)\n",
    "            for x in range(len(x)): \n",
    "                turtle.dot(10, \"black\")\n",
    "                turtle.fd(20)\n",
    "            turtle.goto(0, turtle.ycor())\n",
    "            turtle.right(90)\n",
    "            turtle.fd(20)\n",
    "            turtle.right(-90)\n",
    "        \n",
    "stars1(5)\n",
    "\n",
    "turtle.mainloop()"
   ]
  }
 ],
 "metadata": {
  "kernelspec": {
   "display_name": "Python 3.10.6 64-bit (microsoft store)",
   "language": "python",
   "name": "python3"
  },
  "language_info": {
   "codemirror_mode": {
    "name": "ipython",
    "version": 3
   },
   "file_extension": ".py",
   "mimetype": "text/x-python",
   "name": "python",
   "nbconvert_exporter": "python",
   "pygments_lexer": "ipython3",
   "version": "3.10.6"
  },
  "orig_nbformat": 4,
  "vscode": {
   "interpreter": {
    "hash": "7b02c74446cc3340ec73a22c9ebfb594356eb177937d6ca99937a2338bea8788"
   }
  }
 },
 "nbformat": 4,
 "nbformat_minor": 2
}
